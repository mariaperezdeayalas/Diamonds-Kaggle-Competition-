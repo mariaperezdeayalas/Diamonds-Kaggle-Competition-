{
 "cells": [
  {
   "cell_type": "markdown",
   "id": "55862da4",
   "metadata": {},
   "source": [
    "# Cleaning the dataset"
   ]
  },
  {
   "cell_type": "code",
   "execution_count": 1,
   "id": "b49406d7",
   "metadata": {},
   "outputs": [],
   "source": [
    "import numpy as np\n",
    "import pandas as pd\n",
    "import seaborn as sns"
   ]
  },
  {
   "cell_type": "code",
   "execution_count": 2,
   "id": "5147b911",
   "metadata": {},
   "outputs": [],
   "source": [
    "%matplotlib inline\n",
    "sns.set_context(\"poster\")\n",
    "sns.set(rc={\"figure.figsize\": (12.,10.)})\n",
    "sns.set_style(\"whitegrid\")"
   ]
  },
  {
   "cell_type": "markdown",
   "id": "c1ee5b11",
   "metadata": {},
   "source": [
    "### 1. Exploring the data"
   ]
  },
  {
   "cell_type": "code",
   "execution_count": 3,
   "id": "1d98e711",
   "metadata": {},
   "outputs": [],
   "source": [
    "diamonds = pd.read_csv(\"../Data/train.csv\")"
   ]
  },
  {
   "cell_type": "code",
   "execution_count": 4,
   "id": "4f22f565",
   "metadata": {},
   "outputs": [
    {
     "data": {
      "text/html": [
       "<div>\n",
       "<style scoped>\n",
       "    .dataframe tbody tr th:only-of-type {\n",
       "        vertical-align: middle;\n",
       "    }\n",
       "\n",
       "    .dataframe tbody tr th {\n",
       "        vertical-align: top;\n",
       "    }\n",
       "\n",
       "    .dataframe thead th {\n",
       "        text-align: right;\n",
       "    }\n",
       "</style>\n",
       "<table border=\"1\" class=\"dataframe\">\n",
       "  <thead>\n",
       "    <tr style=\"text-align: right;\">\n",
       "      <th></th>\n",
       "      <th>id</th>\n",
       "      <th>carat</th>\n",
       "      <th>cut</th>\n",
       "      <th>color</th>\n",
       "      <th>clarity</th>\n",
       "      <th>depth</th>\n",
       "      <th>table</th>\n",
       "      <th>x</th>\n",
       "      <th>y</th>\n",
       "      <th>z</th>\n",
       "      <th>price</th>\n",
       "    </tr>\n",
       "  </thead>\n",
       "  <tbody>\n",
       "    <tr>\n",
       "      <th>0</th>\n",
       "      <td>0</td>\n",
       "      <td>1.14</td>\n",
       "      <td>Ideal</td>\n",
       "      <td>G</td>\n",
       "      <td>VVS2</td>\n",
       "      <td>61.0</td>\n",
       "      <td>56.0</td>\n",
       "      <td>6.74</td>\n",
       "      <td>6.76</td>\n",
       "      <td>4.12</td>\n",
       "      <td>9013</td>\n",
       "    </tr>\n",
       "    <tr>\n",
       "      <th>1</th>\n",
       "      <td>1</td>\n",
       "      <td>0.76</td>\n",
       "      <td>Ideal</td>\n",
       "      <td>H</td>\n",
       "      <td>VS2</td>\n",
       "      <td>62.7</td>\n",
       "      <td>57.0</td>\n",
       "      <td>5.86</td>\n",
       "      <td>5.82</td>\n",
       "      <td>3.66</td>\n",
       "      <td>2692</td>\n",
       "    </tr>\n",
       "    <tr>\n",
       "      <th>2</th>\n",
       "      <td>2</td>\n",
       "      <td>0.84</td>\n",
       "      <td>Ideal</td>\n",
       "      <td>G</td>\n",
       "      <td>VS1</td>\n",
       "      <td>61.4</td>\n",
       "      <td>56.0</td>\n",
       "      <td>6.04</td>\n",
       "      <td>6.15</td>\n",
       "      <td>3.74</td>\n",
       "      <td>4372</td>\n",
       "    </tr>\n",
       "    <tr>\n",
       "      <th>3</th>\n",
       "      <td>3</td>\n",
       "      <td>1.55</td>\n",
       "      <td>Ideal</td>\n",
       "      <td>H</td>\n",
       "      <td>VS1</td>\n",
       "      <td>62.0</td>\n",
       "      <td>57.0</td>\n",
       "      <td>7.37</td>\n",
       "      <td>7.43</td>\n",
       "      <td>4.59</td>\n",
       "      <td>13665</td>\n",
       "    </tr>\n",
       "    <tr>\n",
       "      <th>4</th>\n",
       "      <td>4</td>\n",
       "      <td>0.30</td>\n",
       "      <td>Ideal</td>\n",
       "      <td>G</td>\n",
       "      <td>SI2</td>\n",
       "      <td>61.9</td>\n",
       "      <td>57.0</td>\n",
       "      <td>4.28</td>\n",
       "      <td>4.31</td>\n",
       "      <td>2.66</td>\n",
       "      <td>422</td>\n",
       "    </tr>\n",
       "  </tbody>\n",
       "</table>\n",
       "</div>"
      ],
      "text/plain": [
       "   id  carat    cut color clarity  depth  table     x     y     z  price\n",
       "0   0   1.14  Ideal     G    VVS2   61.0   56.0  6.74  6.76  4.12   9013\n",
       "1   1   0.76  Ideal     H     VS2   62.7   57.0  5.86  5.82  3.66   2692\n",
       "2   2   0.84  Ideal     G     VS1   61.4   56.0  6.04  6.15  3.74   4372\n",
       "3   3   1.55  Ideal     H     VS1   62.0   57.0  7.37  7.43  4.59  13665\n",
       "4   4   0.30  Ideal     G     SI2   61.9   57.0  4.28  4.31  2.66    422"
      ]
     },
     "execution_count": 4,
     "metadata": {},
     "output_type": "execute_result"
    }
   ],
   "source": [
    "diamonds.head()"
   ]
  },
  {
   "cell_type": "code",
   "execution_count": 5,
   "id": "69a31d1a",
   "metadata": {},
   "outputs": [
    {
     "data": {
      "text/plain": [
       "(40455, 11)"
      ]
     },
     "execution_count": 5,
     "metadata": {},
     "output_type": "execute_result"
    }
   ],
   "source": [
    "diamonds.shape"
   ]
  },
  {
   "cell_type": "code",
   "execution_count": 6,
   "id": "c3a9fc07",
   "metadata": {},
   "outputs": [
    {
     "name": "stdout",
     "output_type": "stream",
     "text": [
      "<class 'pandas.core.frame.DataFrame'>\n",
      "RangeIndex: 40455 entries, 0 to 40454\n",
      "Data columns (total 11 columns):\n",
      " #   Column   Non-Null Count  Dtype  \n",
      "---  ------   --------------  -----  \n",
      " 0   id       40455 non-null  int64  \n",
      " 1   carat    40455 non-null  float64\n",
      " 2   cut      40455 non-null  object \n",
      " 3   color    40455 non-null  object \n",
      " 4   clarity  40455 non-null  object \n",
      " 5   depth    40455 non-null  float64\n",
      " 6   table    40455 non-null  float64\n",
      " 7   x        40455 non-null  float64\n",
      " 8   y        40455 non-null  float64\n",
      " 9   z        40455 non-null  float64\n",
      " 10  price    40455 non-null  int64  \n",
      "dtypes: float64(6), int64(2), object(3)\n",
      "memory usage: 3.4+ MB\n"
     ]
    }
   ],
   "source": [
    "diamonds.info()"
   ]
  },
  {
   "cell_type": "code",
   "execution_count": 7,
   "id": "5c617880",
   "metadata": {},
   "outputs": [
    {
     "data": {
      "text/plain": [
       "id         0\n",
       "carat      0\n",
       "cut        0\n",
       "color      0\n",
       "clarity    0\n",
       "depth      0\n",
       "table      0\n",
       "x          0\n",
       "y          0\n",
       "z          0\n",
       "price      0\n",
       "dtype: int64"
      ]
     },
     "execution_count": 7,
     "metadata": {},
     "output_type": "execute_result"
    }
   ],
   "source": [
    "diamonds.isnull().sum()"
   ]
  },
  {
   "cell_type": "code",
   "execution_count": 8,
   "id": "5983aa8d",
   "metadata": {},
   "outputs": [],
   "source": [
    "df = diamonds[['carat', 'cut', 'color', 'clarity', 'depth', 'table', 'x', 'y', 'z', 'price']]"
   ]
  },
  {
   "cell_type": "code",
   "execution_count": 9,
   "id": "d85dff6f",
   "metadata": {},
   "outputs": [
    {
     "data": {
      "text/plain": [
       "Ideal        16193\n",
       "Premium      10301\n",
       "Very Good     9030\n",
       "Good          3710\n",
       "Fair          1221\n",
       "Name: cut, dtype: int64"
      ]
     },
     "execution_count": 9,
     "metadata": {},
     "output_type": "execute_result"
    }
   ],
   "source": [
    "df['cut'].value_counts()"
   ]
  },
  {
   "cell_type": "code",
   "execution_count": 10,
   "id": "d5910156",
   "metadata": {},
   "outputs": [
    {
     "data": {
      "text/plain": [
       "G    8459\n",
       "E    7346\n",
       "F    7174\n",
       "H    6273\n",
       "D    5019\n",
       "I    4065\n",
       "J    2119\n",
       "Name: color, dtype: int64"
      ]
     },
     "execution_count": 10,
     "metadata": {},
     "output_type": "execute_result"
    }
   ],
   "source": [
    "df['color'].value_counts()"
   ]
  },
  {
   "cell_type": "code",
   "execution_count": 11,
   "id": "7bf284a3",
   "metadata": {
    "scrolled": true
   },
   "outputs": [
    {
     "data": {
      "text/plain": [
       "SI1     9746\n",
       "VS2     9175\n",
       "SI2     6912\n",
       "VS1     6137\n",
       "VVS2    3822\n",
       "VVS1    2732\n",
       "IF      1367\n",
       "I1       564\n",
       "Name: clarity, dtype: int64"
      ]
     },
     "execution_count": 11,
     "metadata": {},
     "output_type": "execute_result"
    }
   ],
   "source": [
    "df['clarity'].value_counts()"
   ]
  },
  {
   "cell_type": "markdown",
   "id": "73aa0d63",
   "metadata": {},
   "source": [
    "### 2. Looking at the correlation between all the variables"
   ]
  },
  {
   "cell_type": "code",
   "execution_count": 12,
   "id": "ce9eb777",
   "metadata": {},
   "outputs": [
    {
     "data": {
      "text/html": [
       "<div>\n",
       "<style scoped>\n",
       "    .dataframe tbody tr th:only-of-type {\n",
       "        vertical-align: middle;\n",
       "    }\n",
       "\n",
       "    .dataframe tbody tr th {\n",
       "        vertical-align: top;\n",
       "    }\n",
       "\n",
       "    .dataframe thead th {\n",
       "        text-align: right;\n",
       "    }\n",
       "</style>\n",
       "<table border=\"1\" class=\"dataframe\">\n",
       "  <thead>\n",
       "    <tr style=\"text-align: right;\">\n",
       "      <th></th>\n",
       "      <th>carat</th>\n",
       "      <th>depth</th>\n",
       "      <th>table</th>\n",
       "      <th>x</th>\n",
       "      <th>y</th>\n",
       "      <th>z</th>\n",
       "      <th>price</th>\n",
       "    </tr>\n",
       "  </thead>\n",
       "  <tbody>\n",
       "    <tr>\n",
       "      <th>carat</th>\n",
       "      <td>1.000000</td>\n",
       "      <td>0.025563</td>\n",
       "      <td>0.181437</td>\n",
       "      <td>0.976119</td>\n",
       "      <td>0.968747</td>\n",
       "      <td>0.969643</td>\n",
       "      <td>0.921128</td>\n",
       "    </tr>\n",
       "    <tr>\n",
       "      <th>depth</th>\n",
       "      <td>0.025563</td>\n",
       "      <td>1.000000</td>\n",
       "      <td>-0.297741</td>\n",
       "      <td>-0.028409</td>\n",
       "      <td>-0.031153</td>\n",
       "      <td>0.093987</td>\n",
       "      <td>-0.015052</td>\n",
       "    </tr>\n",
       "    <tr>\n",
       "      <th>table</th>\n",
       "      <td>0.181437</td>\n",
       "      <td>-0.297741</td>\n",
       "      <td>1.000000</td>\n",
       "      <td>0.195592</td>\n",
       "      <td>0.187326</td>\n",
       "      <td>0.154194</td>\n",
       "      <td>0.127691</td>\n",
       "    </tr>\n",
       "    <tr>\n",
       "      <th>x</th>\n",
       "      <td>0.976119</td>\n",
       "      <td>-0.028409</td>\n",
       "      <td>0.195592</td>\n",
       "      <td>1.000000</td>\n",
       "      <td>0.991276</td>\n",
       "      <td>0.986062</td>\n",
       "      <td>0.884874</td>\n",
       "    </tr>\n",
       "    <tr>\n",
       "      <th>y</th>\n",
       "      <td>0.968747</td>\n",
       "      <td>-0.031153</td>\n",
       "      <td>0.187326</td>\n",
       "      <td>0.991276</td>\n",
       "      <td>1.000000</td>\n",
       "      <td>0.980160</td>\n",
       "      <td>0.880575</td>\n",
       "    </tr>\n",
       "    <tr>\n",
       "      <th>z</th>\n",
       "      <td>0.969643</td>\n",
       "      <td>0.093987</td>\n",
       "      <td>0.154194</td>\n",
       "      <td>0.986062</td>\n",
       "      <td>0.980160</td>\n",
       "      <td>1.000000</td>\n",
       "      <td>0.875011</td>\n",
       "    </tr>\n",
       "    <tr>\n",
       "      <th>price</th>\n",
       "      <td>0.921128</td>\n",
       "      <td>-0.015052</td>\n",
       "      <td>0.127691</td>\n",
       "      <td>0.884874</td>\n",
       "      <td>0.880575</td>\n",
       "      <td>0.875011</td>\n",
       "      <td>1.000000</td>\n",
       "    </tr>\n",
       "  </tbody>\n",
       "</table>\n",
       "</div>"
      ],
      "text/plain": [
       "          carat     depth     table         x         y         z     price\n",
       "carat  1.000000  0.025563  0.181437  0.976119  0.968747  0.969643  0.921128\n",
       "depth  0.025563  1.000000 -0.297741 -0.028409 -0.031153  0.093987 -0.015052\n",
       "table  0.181437 -0.297741  1.000000  0.195592  0.187326  0.154194  0.127691\n",
       "x      0.976119 -0.028409  0.195592  1.000000  0.991276  0.986062  0.884874\n",
       "y      0.968747 -0.031153  0.187326  0.991276  1.000000  0.980160  0.880575\n",
       "z      0.969643  0.093987  0.154194  0.986062  0.980160  1.000000  0.875011\n",
       "price  0.921128 -0.015052  0.127691  0.884874  0.880575  0.875011  1.000000"
      ]
     },
     "execution_count": 12,
     "metadata": {},
     "output_type": "execute_result"
    }
   ],
   "source": [
    "corr = df.corr()\n",
    "corr"
   ]
  },
  {
   "cell_type": "code",
   "execution_count": 13,
   "id": "e6f5cab8",
   "metadata": {},
   "outputs": [
    {
     "data": {
      "image/png": "[encoded data removed]",
      "text/plain": [
       "<Figure size 864x720 with 2 Axes>"
      ]
     },
     "metadata": {},
     "output_type": "display_data"
    }
   ],
   "source": [
    "maskk = np.triu(np.ones_like(corr, dtype=bool)) \n",
    "color_map = sns.diverging_palette(0, 10, as_cmap=True) \n",
    "sns.heatmap(corr,  \n",
    "            mask = maskk,\n",
    "            cmap=color_map,\n",
    "            square=True, \n",
    "            linewidth=0.5, \n",
    "            vmax=1,\n",
    "            cbar_kws={\"shrink\": .5}, \n",
    "            annot = True\n",
    ");"
   ]
  },
  {
   "cell_type": "markdown",
   "id": "796918ed",
   "metadata": {},
   "source": [
    "The columns x, y & z have a correlation of almost 1 with carat, so we can remove them from the dataset."
   ]
  },
  {
   "cell_type": "code",
   "execution_count": 14,
   "id": "8a0e41e0",
   "metadata": {},
   "outputs": [
    {
     "name": "stderr",
     "output_type": "stream",
     "text": [
      "/opt/homebrew/Caskroom/miniconda/base/lib/python3.8/site-packages/pandas/core/frame.py:4906: SettingWithCopyWarning: \n",
      "A value is trying to be set on a copy of a slice from a DataFrame\n",
      "\n",
      "See the caveats in the documentation: https://pandas.pydata.org/pandas-docs/stable/user_guide/indexing.html#returning-a-view-versus-a-copy\n",
      "  return super().drop(\n"
     ]
    }
   ],
   "source": [
    "df.drop(columns = ['x', 'y', 'z'], axis = 1, inplace=True)"
   ]
  },
  {
   "cell_type": "code",
   "execution_count": 15,
   "id": "6a8a51a2",
   "metadata": {},
   "outputs": [
    {
     "data": {
      "text/html": [
       "<div>\n",
       "<style scoped>\n",
       "    .dataframe tbody tr th:only-of-type {\n",
       "        vertical-align: middle;\n",
       "    }\n",
       "\n",
       "    .dataframe tbody tr th {\n",
       "        vertical-align: top;\n",
       "    }\n",
       "\n",
       "    .dataframe thead th {\n",
       "        text-align: right;\n",
       "    }\n",
       "</style>\n",
       "<table border=\"1\" class=\"dataframe\">\n",
       "  <thead>\n",
       "    <tr style=\"text-align: right;\">\n",
       "      <th></th>\n",
       "      <th>carat</th>\n",
       "      <th>cut</th>\n",
       "      <th>color</th>\n",
       "      <th>clarity</th>\n",
       "      <th>depth</th>\n",
       "      <th>table</th>\n",
       "      <th>price</th>\n",
       "    </tr>\n",
       "  </thead>\n",
       "  <tbody>\n",
       "    <tr>\n",
       "      <th>0</th>\n",
       "      <td>1.14</td>\n",
       "      <td>Ideal</td>\n",
       "      <td>G</td>\n",
       "      <td>VVS2</td>\n",
       "      <td>61.0</td>\n",
       "      <td>56.0</td>\n",
       "      <td>9013</td>\n",
       "    </tr>\n",
       "    <tr>\n",
       "      <th>1</th>\n",
       "      <td>0.76</td>\n",
       "      <td>Ideal</td>\n",
       "      <td>H</td>\n",
       "      <td>VS2</td>\n",
       "      <td>62.7</td>\n",
       "      <td>57.0</td>\n",
       "      <td>2692</td>\n",
       "    </tr>\n",
       "    <tr>\n",
       "      <th>2</th>\n",
       "      <td>0.84</td>\n",
       "      <td>Ideal</td>\n",
       "      <td>G</td>\n",
       "      <td>VS1</td>\n",
       "      <td>61.4</td>\n",
       "      <td>56.0</td>\n",
       "      <td>4372</td>\n",
       "    </tr>\n",
       "    <tr>\n",
       "      <th>3</th>\n",
       "      <td>1.55</td>\n",
       "      <td>Ideal</td>\n",
       "      <td>H</td>\n",
       "      <td>VS1</td>\n",
       "      <td>62.0</td>\n",
       "      <td>57.0</td>\n",
       "      <td>13665</td>\n",
       "    </tr>\n",
       "    <tr>\n",
       "      <th>4</th>\n",
       "      <td>0.30</td>\n",
       "      <td>Ideal</td>\n",
       "      <td>G</td>\n",
       "      <td>SI2</td>\n",
       "      <td>61.9</td>\n",
       "      <td>57.0</td>\n",
       "      <td>422</td>\n",
       "    </tr>\n",
       "  </tbody>\n",
       "</table>\n",
       "</div>"
      ],
      "text/plain": [
       "   carat    cut color clarity  depth  table  price\n",
       "0   1.14  Ideal     G    VVS2   61.0   56.0   9013\n",
       "1   0.76  Ideal     H     VS2   62.7   57.0   2692\n",
       "2   0.84  Ideal     G     VS1   61.4   56.0   4372\n",
       "3   1.55  Ideal     H     VS1   62.0   57.0  13665\n",
       "4   0.30  Ideal     G     SI2   61.9   57.0    422"
      ]
     },
     "execution_count": 15,
     "metadata": {},
     "output_type": "execute_result"
    }
   ],
   "source": [
    "df.head()"
   ]
  },
  {
   "cell_type": "code",
   "execution_count": 16,
   "id": "c634fe5a",
   "metadata": {},
   "outputs": [],
   "source": [
    "corr2 = df.corr()"
   ]
  },
  {
   "cell_type": "code",
   "execution_count": 17,
   "id": "47493fd5",
   "metadata": {
    "scrolled": false
   },
   "outputs": [
    {
     "data": {
      "image/png": "[encoded data removed]",
      "text/plain": [
       "<Figure size 864x720 with 2 Axes>"
      ]
     },
     "metadata": {},
     "output_type": "display_data"
    }
   ],
   "source": [
    "maskk = np.triu(np.ones_like(corr2, dtype=bool)) \n",
    "color_map = sns.diverging_palette(0, 10, as_cmap=True) \n",
    "sns.heatmap(corr2,  \n",
    "            mask = maskk,\n",
    "            cmap=color_map,\n",
    "            square=True, \n",
    "            linewidth=0.5, \n",
    "            vmax=1,\n",
    "            cbar_kws={\"shrink\": .5}, \n",
    "            annot = True\n",
    ");"
   ]
  },
  {
   "cell_type": "markdown",
   "id": "0fa3c0d6",
   "metadata": {},
   "source": [
    "### 3. Transforming categorical variables into numbers"
   ]
  },
  {
   "cell_type": "markdown",
   "id": "bc5dc14c",
   "metadata": {},
   "source": [
    "Starting with the color column..."
   ]
  },
  {
   "cell_type": "code",
   "execution_count": 18,
   "id": "444164df",
   "metadata": {},
   "outputs": [
    {
     "data": {
      "text/plain": [
       "array(['G', 'H', 'F', 'J', 'E', 'I', 'D'], dtype=object)"
      ]
     },
     "execution_count": 18,
     "metadata": {},
     "output_type": "execute_result"
    }
   ],
   "source": [
    "df.color.unique()"
   ]
  },
  {
   "cell_type": "code",
   "execution_count": 19,
   "id": "387b4673",
   "metadata": {},
   "outputs": [],
   "source": [
    "dicc_color = {\"D\": 7,\n",
    "              \"E\": 6,\n",
    "              \"F\": 5,\n",
    "              \"G\": 4,\n",
    "              \"H\": 3,\n",
    "              \"I\": 2,\n",
    "              \"J\": 1\n",
    "}"
   ]
  },
  {
   "cell_type": "code",
   "execution_count": 20,
   "id": "0584ba1c",
   "metadata": {},
   "outputs": [
    {
     "name": "stderr",
     "output_type": "stream",
     "text": [
      "<ipython-input-20-3a80cbea9c53>:1: SettingWithCopyWarning: \n",
      "A value is trying to be set on a copy of a slice from a DataFrame.\n",
      "Try using .loc[row_indexer,col_indexer] = value instead\n",
      "\n",
      "See the caveats in the documentation: https://pandas.pydata.org/pandas-docs/stable/user_guide/indexing.html#returning-a-view-versus-a-copy\n",
      "  df['color'] = df['color'].map(dicc_color)\n"
     ]
    }
   ],
   "source": [
    "df['color'] = df['color'].map(dicc_color)"
   ]
  },
  {
   "cell_type": "code",
   "execution_count": 21,
   "id": "be9449e9",
   "metadata": {},
   "outputs": [
    {
     "data": {
      "text/html": [
       "<div>\n",
       "<style scoped>\n",
       "    .dataframe tbody tr th:only-of-type {\n",
       "        vertical-align: middle;\n",
       "    }\n",
       "\n",
       "    .dataframe tbody tr th {\n",
       "        vertical-align: top;\n",
       "    }\n",
       "\n",
       "    .dataframe thead th {\n",
       "        text-align: right;\n",
       "    }\n",
       "</style>\n",
       "<table border=\"1\" class=\"dataframe\">\n",
       "  <thead>\n",
       "    <tr style=\"text-align: right;\">\n",
       "      <th></th>\n",
       "      <th>carat</th>\n",
       "      <th>cut</th>\n",
       "      <th>color</th>\n",
       "      <th>clarity</th>\n",
       "      <th>depth</th>\n",
       "      <th>table</th>\n",
       "      <th>price</th>\n",
       "    </tr>\n",
       "  </thead>\n",
       "  <tbody>\n",
       "    <tr>\n",
       "      <th>0</th>\n",
       "      <td>1.14</td>\n",
       "      <td>Ideal</td>\n",
       "      <td>4</td>\n",
       "      <td>VVS2</td>\n",
       "      <td>61.0</td>\n",
       "      <td>56.0</td>\n",
       "      <td>9013</td>\n",
       "    </tr>\n",
       "    <tr>\n",
       "      <th>1</th>\n",
       "      <td>0.76</td>\n",
       "      <td>Ideal</td>\n",
       "      <td>3</td>\n",
       "      <td>VS2</td>\n",
       "      <td>62.7</td>\n",
       "      <td>57.0</td>\n",
       "      <td>2692</td>\n",
       "    </tr>\n",
       "    <tr>\n",
       "      <th>2</th>\n",
       "      <td>0.84</td>\n",
       "      <td>Ideal</td>\n",
       "      <td>4</td>\n",
       "      <td>VS1</td>\n",
       "      <td>61.4</td>\n",
       "      <td>56.0</td>\n",
       "      <td>4372</td>\n",
       "    </tr>\n",
       "    <tr>\n",
       "      <th>3</th>\n",
       "      <td>1.55</td>\n",
       "      <td>Ideal</td>\n",
       "      <td>3</td>\n",
       "      <td>VS1</td>\n",
       "      <td>62.0</td>\n",
       "      <td>57.0</td>\n",
       "      <td>13665</td>\n",
       "    </tr>\n",
       "    <tr>\n",
       "      <th>4</th>\n",
       "      <td>0.30</td>\n",
       "      <td>Ideal</td>\n",
       "      <td>4</td>\n",
       "      <td>SI2</td>\n",
       "      <td>61.9</td>\n",
       "      <td>57.0</td>\n",
       "      <td>422</td>\n",
       "    </tr>\n",
       "  </tbody>\n",
       "</table>\n",
       "</div>"
      ],
      "text/plain": [
       "   carat    cut  color clarity  depth  table  price\n",
       "0   1.14  Ideal      4    VVS2   61.0   56.0   9013\n",
       "1   0.76  Ideal      3     VS2   62.7   57.0   2692\n",
       "2   0.84  Ideal      4     VS1   61.4   56.0   4372\n",
       "3   1.55  Ideal      3     VS1   62.0   57.0  13665\n",
       "4   0.30  Ideal      4     SI2   61.9   57.0    422"
      ]
     },
     "execution_count": 21,
     "metadata": {},
     "output_type": "execute_result"
    }
   ],
   "source": [
    "df.head()"
   ]
  },
  {
   "cell_type": "markdown",
   "id": "442b59e5",
   "metadata": {},
   "source": [
    "Then we do the same to 'cut' column"
   ]
  },
  {
   "cell_type": "code",
   "execution_count": 22,
   "id": "1e62308c",
   "metadata": {},
   "outputs": [
    {
     "data": {
      "text/plain": [
       "array(['Ideal', 'Fair', 'Very Good', 'Premium', 'Good'], dtype=object)"
      ]
     },
     "execution_count": 22,
     "metadata": {},
     "output_type": "execute_result"
    }
   ],
   "source": [
    "df.cut.unique()"
   ]
  },
  {
   "cell_type": "code",
   "execution_count": 23,
   "id": "d0ca1774",
   "metadata": {},
   "outputs": [],
   "source": [
    "dicc_cut = {\"Ideal\": 5,\n",
    "            \"Premium\": 4,\n",
    "            \"Very Good\": 3,\n",
    "            \"Good\": 2,\n",
    "            \"Fair\": 1\n",
    "}"
   ]
  },
  {
   "cell_type": "code",
   "execution_count": 24,
   "id": "6e5b4321",
   "metadata": {},
   "outputs": [
    {
     "name": "stderr",
     "output_type": "stream",
     "text": [
      "<ipython-input-24-0216e90faa52>:1: SettingWithCopyWarning: \n",
      "A value is trying to be set on a copy of a slice from a DataFrame.\n",
      "Try using .loc[row_indexer,col_indexer] = value instead\n",
      "\n",
      "See the caveats in the documentation: https://pandas.pydata.org/pandas-docs/stable/user_guide/indexing.html#returning-a-view-versus-a-copy\n",
      "  df['cut'] = df['cut'].map(dicc_cut)\n"
     ]
    }
   ],
   "source": [
    "df['cut'] = df['cut'].map(dicc_cut)"
   ]
  },
  {
   "cell_type": "code",
   "execution_count": 25,
   "id": "8e50f4b8",
   "metadata": {},
   "outputs": [
    {
     "data": {
      "text/html": [
       "<div>\n",
       "<style scoped>\n",
       "    .dataframe tbody tr th:only-of-type {\n",
       "        vertical-align: middle;\n",
       "    }\n",
       "\n",
       "    .dataframe tbody tr th {\n",
       "        vertical-align: top;\n",
       "    }\n",
       "\n",
       "    .dataframe thead th {\n",
       "        text-align: right;\n",
       "    }\n",
       "</style>\n",
       "<table border=\"1\" class=\"dataframe\">\n",
       "  <thead>\n",
       "    <tr style=\"text-align: right;\">\n",
       "      <th></th>\n",
       "      <th>carat</th>\n",
       "      <th>cut</th>\n",
       "      <th>color</th>\n",
       "      <th>clarity</th>\n",
       "      <th>depth</th>\n",
       "      <th>table</th>\n",
       "      <th>price</th>\n",
       "    </tr>\n",
       "  </thead>\n",
       "  <tbody>\n",
       "    <tr>\n",
       "      <th>38793</th>\n",
       "      <td>1.06</td>\n",
       "      <td>3</td>\n",
       "      <td>4</td>\n",
       "      <td>SI1</td>\n",
       "      <td>63.4</td>\n",
       "      <td>58.0</td>\n",
       "      <td>5163</td>\n",
       "    </tr>\n",
       "    <tr>\n",
       "      <th>37063</th>\n",
       "      <td>0.84</td>\n",
       "      <td>4</td>\n",
       "      <td>3</td>\n",
       "      <td>SI2</td>\n",
       "      <td>61.3</td>\n",
       "      <td>58.0</td>\n",
       "      <td>2628</td>\n",
       "    </tr>\n",
       "    <tr>\n",
       "      <th>10290</th>\n",
       "      <td>1.06</td>\n",
       "      <td>5</td>\n",
       "      <td>7</td>\n",
       "      <td>SI1</td>\n",
       "      <td>62.7</td>\n",
       "      <td>54.0</td>\n",
       "      <td>5946</td>\n",
       "    </tr>\n",
       "    <tr>\n",
       "      <th>2019</th>\n",
       "      <td>0.56</td>\n",
       "      <td>3</td>\n",
       "      <td>3</td>\n",
       "      <td>VVS2</td>\n",
       "      <td>59.8</td>\n",
       "      <td>57.0</td>\n",
       "      <td>1723</td>\n",
       "    </tr>\n",
       "  </tbody>\n",
       "</table>\n",
       "</div>"
      ],
      "text/plain": [
       "       carat  cut  color clarity  depth  table  price\n",
       "38793   1.06    3      4     SI1   63.4   58.0   5163\n",
       "37063   0.84    4      3     SI2   61.3   58.0   2628\n",
       "10290   1.06    5      7     SI1   62.7   54.0   5946\n",
       "2019    0.56    3      3    VVS2   59.8   57.0   1723"
      ]
     },
     "execution_count": 25,
     "metadata": {},
     "output_type": "execute_result"
    }
   ],
   "source": [
    "df.sample(4)"
   ]
  },
  {
   "cell_type": "markdown",
   "id": "4d556705",
   "metadata": {},
   "source": [
    "And finally for the clarity column"
   ]
  },
  {
   "cell_type": "code",
   "execution_count": 26,
   "id": "3e87cc28",
   "metadata": {},
   "outputs": [
    {
     "data": {
      "text/plain": [
       "array(['VVS2', 'VS2', 'VS1', 'SI2', 'SI1', 'VVS1', 'IF', 'I1'],\n",
       "      dtype=object)"
      ]
     },
     "execution_count": 26,
     "metadata": {},
     "output_type": "execute_result"
    }
   ],
   "source": [
    "df.clarity.unique()"
   ]
  },
  {
   "cell_type": "code",
   "execution_count": 27,
   "id": "6e459e2f",
   "metadata": {},
   "outputs": [],
   "source": [
    "dicc_clarity = {'IF': 8,\n",
    "                'VVS1': 7,\n",
    "                'VVS2': 6,\n",
    "                'VS1': 5,\n",
    "                'VS2': 4,\n",
    "                'SI1': 3,\n",
    "                'SI2': 2, \n",
    "                'I1': 1\n",
    "}"
   ]
  },
  {
   "cell_type": "code",
   "execution_count": 28,
   "id": "9f9348ed",
   "metadata": {},
   "outputs": [
    {
     "name": "stderr",
     "output_type": "stream",
     "text": [
      "<ipython-input-28-85462361a07a>:1: SettingWithCopyWarning: \n",
      "A value is trying to be set on a copy of a slice from a DataFrame.\n",
      "Try using .loc[row_indexer,col_indexer] = value instead\n",
      "\n",
      "See the caveats in the documentation: https://pandas.pydata.org/pandas-docs/stable/user_guide/indexing.html#returning-a-view-versus-a-copy\n",
      "  df['clarity'] = df['clarity'].map(dicc_clarity)\n"
     ]
    }
   ],
   "source": [
    "df['clarity'] = df['clarity'].map(dicc_clarity)"
   ]
  },
  {
   "cell_type": "code",
   "execution_count": 29,
   "id": "827a7bff",
   "metadata": {},
   "outputs": [
    {
     "data": {
      "text/html": [
       "<div>\n",
       "<style scoped>\n",
       "    .dataframe tbody tr th:only-of-type {\n",
       "        vertical-align: middle;\n",
       "    }\n",
       "\n",
       "    .dataframe tbody tr th {\n",
       "        vertical-align: top;\n",
       "    }\n",
       "\n",
       "    .dataframe thead th {\n",
       "        text-align: right;\n",
       "    }\n",
       "</style>\n",
       "<table border=\"1\" class=\"dataframe\">\n",
       "  <thead>\n",
       "    <tr style=\"text-align: right;\">\n",
       "      <th></th>\n",
       "      <th>carat</th>\n",
       "      <th>cut</th>\n",
       "      <th>color</th>\n",
       "      <th>clarity</th>\n",
       "      <th>depth</th>\n",
       "      <th>table</th>\n",
       "      <th>price</th>\n",
       "    </tr>\n",
       "  </thead>\n",
       "  <tbody>\n",
       "    <tr>\n",
       "      <th>0</th>\n",
       "      <td>1.14</td>\n",
       "      <td>5</td>\n",
       "      <td>4</td>\n",
       "      <td>6</td>\n",
       "      <td>61.0</td>\n",
       "      <td>56.0</td>\n",
       "      <td>9013</td>\n",
       "    </tr>\n",
       "    <tr>\n",
       "      <th>1</th>\n",
       "      <td>0.76</td>\n",
       "      <td>5</td>\n",
       "      <td>3</td>\n",
       "      <td>4</td>\n",
       "      <td>62.7</td>\n",
       "      <td>57.0</td>\n",
       "      <td>2692</td>\n",
       "    </tr>\n",
       "    <tr>\n",
       "      <th>2</th>\n",
       "      <td>0.84</td>\n",
       "      <td>5</td>\n",
       "      <td>4</td>\n",
       "      <td>5</td>\n",
       "      <td>61.4</td>\n",
       "      <td>56.0</td>\n",
       "      <td>4372</td>\n",
       "    </tr>\n",
       "    <tr>\n",
       "      <th>3</th>\n",
       "      <td>1.55</td>\n",
       "      <td>5</td>\n",
       "      <td>3</td>\n",
       "      <td>5</td>\n",
       "      <td>62.0</td>\n",
       "      <td>57.0</td>\n",
       "      <td>13665</td>\n",
       "    </tr>\n",
       "    <tr>\n",
       "      <th>4</th>\n",
       "      <td>0.30</td>\n",
       "      <td>5</td>\n",
       "      <td>4</td>\n",
       "      <td>2</td>\n",
       "      <td>61.9</td>\n",
       "      <td>57.0</td>\n",
       "      <td>422</td>\n",
       "    </tr>\n",
       "  </tbody>\n",
       "</table>\n",
       "</div>"
      ],
      "text/plain": [
       "   carat  cut  color  clarity  depth  table  price\n",
       "0   1.14    5      4        6   61.0   56.0   9013\n",
       "1   0.76    5      3        4   62.7   57.0   2692\n",
       "2   0.84    5      4        5   61.4   56.0   4372\n",
       "3   1.55    5      3        5   62.0   57.0  13665\n",
       "4   0.30    5      4        2   61.9   57.0    422"
      ]
     },
     "execution_count": 29,
     "metadata": {},
     "output_type": "execute_result"
    }
   ],
   "source": [
    "df.head()"
   ]
  },
  {
   "cell_type": "code",
   "execution_count": 30,
   "id": "5de925e6",
   "metadata": {
    "scrolled": true
   },
   "outputs": [
    {
     "name": "stdout",
     "output_type": "stream",
     "text": [
      "<class 'pandas.core.frame.DataFrame'>\n",
      "RangeIndex: 40455 entries, 0 to 40454\n",
      "Data columns (total 7 columns):\n",
      " #   Column   Non-Null Count  Dtype  \n",
      "---  ------   --------------  -----  \n",
      " 0   carat    40455 non-null  float64\n",
      " 1   cut      40455 non-null  int64  \n",
      " 2   color    40455 non-null  int64  \n",
      " 3   clarity  40455 non-null  int64  \n",
      " 4   depth    40455 non-null  float64\n",
      " 5   table    40455 non-null  float64\n",
      " 6   price    40455 non-null  int64  \n",
      "dtypes: float64(3), int64(4)\n",
      "memory usage: 2.2 MB\n"
     ]
    }
   ],
   "source": [
    "df.info()"
   ]
  },
  {
   "cell_type": "markdown",
   "id": "c4d089c8",
   "metadata": {},
   "source": [
    "### 4. Last correlation check with all my variables being numbers"
   ]
  },
  {
   "cell_type": "code",
   "execution_count": 31,
   "id": "c37e3cfb",
   "metadata": {},
   "outputs": [],
   "source": [
    "corr3 = df.corr()"
   ]
  },
  {
   "cell_type": "code",
   "execution_count": 32,
   "id": "596ace5f",
   "metadata": {},
   "outputs": [
    {
     "data": {
      "image/png": "[encoded data removed]",
      "text/plain": [
       "<Figure size 864x720 with 2 Axes>"
      ]
     },
     "metadata": {},
     "output_type": "display_data"
    }
   ],
   "source": [
    "maskk = np.triu(np.ones_like(corr3, dtype=bool)) \n",
    "color_map = sns.diverging_palette(0, 10, as_cmap=True) \n",
    "sns.heatmap(corr3,  \n",
    "            mask = maskk,\n",
    "            cmap=color_map,\n",
    "            square=True, \n",
    "            linewidth=0.5, \n",
    "            vmax=1,\n",
    "            cbar_kws={\"shrink\": .5}, \n",
    "            annot = True\n",
    ");"
   ]
  }
 ],
 "metadata": {
  "kernelspec": {
   "display_name": "ironhack",
   "language": "python",
   "name": "ironhack"
  },
  "language_info": {
   "codemirror_mode": {
    "name": "ipython",
    "version": 3
   },
   "file_extension": ".py",
   "mimetype": "text/x-python",
   "name": "python",
   "nbconvert_exporter": "python",
   "pygments_lexer": "ipython3",
   "version": "3.8.10"
  }
 },
 "nbformat": 4,
 "nbformat_minor": 5
}
